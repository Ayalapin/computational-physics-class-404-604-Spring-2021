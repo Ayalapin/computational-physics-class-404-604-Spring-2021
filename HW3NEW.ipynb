{
 "cells": [
  {
   "cell_type": "code",
   "execution_count": 1,
   "id": "potential-barbados",
   "metadata": {},
   "outputs": [
    {
     "name": "stdout",
     "output_type": "stream",
     "text": [
      "x [1.90236029 3.35595279]\n",
      "x [1.98217359 3.05384231]\n",
      "x [1.98959687 3.03650998]\n",
      "x [1.98984346 3.0356774 ]\n",
      "x [1.98985391 3.03564067]\n",
      "x [1.98985436 3.03563906]\n",
      "x [1.98985438 3.03563899]\n",
      "x [1.98985438 3.03563899]\n",
      "Root is at [1.98985438 3.03563899]  after  7  iterations, with a precision of  3.058816611581724e-09\n"
     ]
    },
    {
     "data": {
      "text/plain": [
       "array([1.98985438, 3.03563899])"
      ]
     },
     "execution_count": 1,
     "metadata": {},
     "output_type": "execute_result"
    }
   ],
   "source": [
    "import matplotlib.pyplot as plt\n",
    "import numpy as np \n",
    "\n",
    "def fX(x,f):\n",
    "    f[0] = x[0]*x[0]+x[0]*x[1]-10.\n",
    "    f[1] = x[0]+3.*x[0]*x[1]*x[1]-57.\n",
    "    \n",
    "def Newton_Raphson_2(x,dx,Nmax, eps,f):\n",
    "    for i in range(0,Nmax):  #Here Newton Raphson has to go through many iterations. Here it does it Nmax times! \n",
    "        f1x1= 2.*x[0]+x[1]\n",
    "        f1x2= x[0]\n",
    "        f2x1= 3.*x[1]**2\n",
    "        f2x2= 1.+6.*x[0]*x[1]\n",
    "        \n",
    "        fX(x,f)\n",
    "        dx1=(f1x2*f[1] - f2x2*f[0])/(f1x1*f2x2 - f1x2*f2x1)  #delta x1\n",
    "        dx2=(f2x1*f[0] - f1x1*f[1])/(f1x1*f2x2 - f1x2*f2x1)   #delta x2\n",
    "        x = x+np.array([dx1,dx2])  #new guess\n",
    "        print('x',x)\n",
    "        if(max(abs(dx1),abs(dx2))<eps): #Checks the precision, upon maximum error of dx1 and dx2 smaller than eps, then it will break out of iterationo (Nmax) loop \n",
    "              print(\"Root is at\",x,\" after \",i,\" iterations, with a precision of \",max(abs(dx1),abs(dx2)))\n",
    "              break\n",
    "    return x\n",
    "\n",
    "x=[1.9,2.]  #inital guess for x \n",
    "f=[0.,0.]\n",
    "\n",
    "dx=1.e-6\n",
    "nmax=150\n",
    "eps=1.e-8\n",
    "\n",
    "Newton_Raphson_2(x,dx,nmax,eps,f)\n",
    "\n",
    "\n",
    "\n"
   ]
  },
  {
   "cell_type": "code",
   "execution_count": null,
   "id": "compatible-vietnam",
   "metadata": {},
   "outputs": [],
   "source": []
  }
 ],
 "metadata": {
  "kernelspec": {
   "display_name": "Python 3",
   "language": "python",
   "name": "python3"
  },
  "language_info": {
   "codemirror_mode": {
    "name": "ipython",
    "version": 3
   },
   "file_extension": ".py",
   "mimetype": "text/x-python",
   "name": "python",
   "nbconvert_exporter": "python",
   "pygments_lexer": "ipython3",
   "version": "3.7.6"
  }
 },
 "nbformat": 4,
 "nbformat_minor": 5
}
