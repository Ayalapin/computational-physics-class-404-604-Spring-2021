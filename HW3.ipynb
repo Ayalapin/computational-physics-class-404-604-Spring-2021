{
 "cells": [
  {
   "cell_type": "code",
   "execution_count": 29,
   "id": "confused-stocks",
   "metadata": {},
   "outputs": [
    {
     "ename": "TypeError",
     "evalue": "f1() missing 1 required positional argument: 'x2'",
     "output_type": "error",
     "traceback": [
      "\u001b[0;31m---------------------------------------------------------------------------\u001b[0m",
      "\u001b[0;31mTypeError\u001b[0m                                 Traceback (most recent call last)",
      "\u001b[0;32m<ipython-input-29-f0743d26c02b>\u001b[0m in \u001b[0;36m<module>\u001b[0;34m\u001b[0m\n\u001b[1;32m     54\u001b[0m \u001b[0ma\u001b[0m\u001b[0;34m=\u001b[0m\u001b[0;36m3.\u001b[0m\u001b[0;34m\u001b[0m\u001b[0;34m\u001b[0m\u001b[0m\n\u001b[1;32m     55\u001b[0m \u001b[0mnmax\u001b[0m\u001b[0;34m=\u001b[0m\u001b[0;36m100\u001b[0m\u001b[0;34m\u001b[0m\u001b[0;34m\u001b[0m\u001b[0m\n\u001b[0;32m---> 56\u001b[0;31m \u001b[0mroot1\u001b[0m \u001b[0;34m=\u001b[0m \u001b[0mnewtonraphson1\u001b[0m\u001b[0;34m(\u001b[0m\u001b[0ma\u001b[0m\u001b[0;34m,\u001b[0m\u001b[0mdx3\u001b[0m\u001b[0;34m,\u001b[0m\u001b[0mnmax\u001b[0m\u001b[0;34m,\u001b[0m\u001b[0meps\u001b[0m\u001b[0;34m,\u001b[0m\u001b[0mf1\u001b[0m\u001b[0;34m)\u001b[0m\u001b[0;34m\u001b[0m\u001b[0;34m\u001b[0m\u001b[0m\n\u001b[0m\u001b[1;32m     57\u001b[0m \u001b[0;34m\u001b[0m\u001b[0m\n\u001b[1;32m     58\u001b[0m \u001b[0meps\u001b[0m\u001b[0;34m=\u001b[0m\u001b[0;36m1.e-8\u001b[0m\u001b[0;34m\u001b[0m\u001b[0;34m\u001b[0m\u001b[0m\n",
      "\u001b[0;32m<ipython-input-29-f0743d26c02b>\u001b[0m in \u001b[0;36mnewtonraphson1\u001b[0;34m(dx2, dx, Nmax, eps, f2)\u001b[0m\n\u001b[1;32m     43\u001b[0m \u001b[0;32mdef\u001b[0m \u001b[0mnewtonraphson1\u001b[0m\u001b[0;34m(\u001b[0m\u001b[0mdx2\u001b[0m\u001b[0;34m,\u001b[0m\u001b[0mdx\u001b[0m\u001b[0;34m,\u001b[0m \u001b[0mNmax\u001b[0m\u001b[0;34m,\u001b[0m \u001b[0meps\u001b[0m\u001b[0;34m,\u001b[0m\u001b[0mf2\u001b[0m\u001b[0;34m)\u001b[0m\u001b[0;34m:\u001b[0m\u001b[0;34m\u001b[0m\u001b[0;34m\u001b[0m\u001b[0m\n\u001b[1;32m     44\u001b[0m     \u001b[0;32mfor\u001b[0m \u001b[0mi\u001b[0m \u001b[0;32min\u001b[0m \u001b[0mrange\u001b[0m\u001b[0;34m(\u001b[0m\u001b[0;36m0\u001b[0m\u001b[0;34m,\u001b[0m\u001b[0mNmax\u001b[0m\u001b[0;34m)\u001b[0m\u001b[0;34m:\u001b[0m\u001b[0;34m\u001b[0m\u001b[0;34m\u001b[0m\u001b[0m\n\u001b[0;32m---> 45\u001b[0;31m         \u001b[0mdf2\u001b[0m \u001b[0;34m=\u001b[0m \u001b[0;34m(\u001b[0m\u001b[0mf2\u001b[0m\u001b[0;34m(\u001b[0m\u001b[0mdx2\u001b[0m\u001b[0;34m+\u001b[0m\u001b[0mdx3\u001b[0m\u001b[0;34m/\u001b[0m\u001b[0;36m2\u001b[0m\u001b[0;34m)\u001b[0m\u001b[0;34m-\u001b[0m\u001b[0mf2\u001b[0m\u001b[0;34m(\u001b[0m\u001b[0mdx2\u001b[0m\u001b[0;34m-\u001b[0m\u001b[0mdx3\u001b[0m\u001b[0;34m/\u001b[0m\u001b[0;36m2\u001b[0m\u001b[0;34m)\u001b[0m\u001b[0;34m)\u001b[0m\u001b[0;34m/\u001b[0m\u001b[0mdx3\u001b[0m\u001b[0;34m\u001b[0m\u001b[0;34m\u001b[0m\u001b[0m\n\u001b[0m\u001b[1;32m     46\u001b[0m         \u001b[0mdx2\u001b[0m \u001b[0;34m=\u001b[0m \u001b[0mdx2\u001b[0m\u001b[0;34m\u001b[0m\u001b[0;34m\u001b[0m\u001b[0m\n\u001b[1;32m     47\u001b[0m         \u001b[0;32mif\u001b[0m\u001b[0;34m(\u001b[0m\u001b[0mabs\u001b[0m\u001b[0;34m(\u001b[0m\u001b[0mf\u001b[0m\u001b[0;34m(\u001b[0m\u001b[0mdx2\u001b[0m\u001b[0;34m)\u001b[0m\u001b[0;34m)\u001b[0m\u001b[0;34m<\u001b[0m\u001b[0meps\u001b[0m\u001b[0;34m)\u001b[0m\u001b[0;34m:\u001b[0m\u001b[0;34m\u001b[0m\u001b[0;34m\u001b[0m\u001b[0m\n",
      "\u001b[0;31mTypeError\u001b[0m: f1() missing 1 required positional argument: 'x2'"
     ]
    }
   ],
   "source": [
    "import matplotlib.pyplot as plt\n",
    "import numpy as np \n",
    "\n",
    "def f1(x1,x2):\n",
    "    return (x1*x1+x1*x2-10)\n",
    "\n",
    "def f2(x1,x2):\n",
    "    return (x2+3*x1*x2*x2-57)\n",
    "\n",
    "def f1x1(x1,x2):\n",
    "    return 2*x1+x2\n",
    "\n",
    "def f1x2 (x1,x2):\n",
    "    return x1 \n",
    "\n",
    "def f2x1(x1,x2):\n",
    "    return 2*x2*x2\n",
    "    \n",
    "def f2x2(x1,x2): \n",
    "    return 1+6*x1*x2\n",
    "    \n",
    "def dx1(f1,f2,f1x1, f1x2,f2x1,f2x2, x1,x2): \n",
    "    return (f2x2*f2-f2x2*f1)/(f1x1*f2x2-f1x2*f2x1)\n",
    "    \n",
    "def dx2(f1,f2,f1x1, f1x2,f2x1,f2x2, x1,x2):\n",
    "    return (f2x1*f1-f1x1*f2)/(f1x1*f2x2-f1x2*f2x1)\n",
    "\n",
    "matrix1 = np.array([[f1x1,f1x2],[f2x1,f2x2]])\n",
    "\n",
    "vector1 = np.array([dx1,dx2])\n",
    "\n",
    "vector2 = np.array([f1,f2])\n",
    "\n",
    "def newtonraphson1(dx1,dx, Nmax, eps,f1):\n",
    "    for i in range(0,Nmax):\n",
    "        df1 = (f1(dx1+dx3/2)-f1(dx1-dx3/2))/dx3\n",
    "        dx1 = dx1\n",
    "        if(abs(f(dx1))<eps):           \n",
    "            print(\"Root is at\",dx1,\" after \",i,\" iterations, with a precision of \",abs(f(dx1)))\n",
    "            break\n",
    "    return x0\n",
    "\n",
    "def newtonraphson1(dx2,dx, Nmax, eps,f2):\n",
    "    for i in range(0,Nmax):\n",
    "        df2 = (f2(dx2+dx3/2)-f2(dx2-dx3/2))/dx3\n",
    "        dx2 = dx2\n",
    "        if(abs(f(dx2))<eps):\n",
    "            print(\"Root is at\",dx2,\" after \",i,\" iterations, with a precision of \",abs(f(dx2)))\n",
    "            break\n",
    "    return x0\n",
    "\n",
    "eps=1.e-8\n",
    "dx3=1.e-6\n",
    "a=3.\n",
    "nmax=100\n",
    "root1 = newtonraphson1(a,dx3,nmax,eps,f1)\n",
    "\n",
    "eps=1.e-8\n",
    "dx3=1.e-6\n",
    "a=3.\n",
    "nmax=100\n",
    "root1= newtonraphson1(a,dx3,nmax,eps,f2)"
   ]
  }
 ],
 "metadata": {
  "kernelspec": {
   "display_name": "Python 3",
   "language": "python",
   "name": "python3"
  },
  "language_info": {
   "codemirror_mode": {
    "name": "ipython",
    "version": 3
   },
   "file_extension": ".py",
   "mimetype": "text/x-python",
   "name": "python",
   "nbconvert_exporter": "python",
   "pygments_lexer": "ipython3",
   "version": "3.7.6"
  }
 },
 "nbformat": 4,
 "nbformat_minor": 5
}
