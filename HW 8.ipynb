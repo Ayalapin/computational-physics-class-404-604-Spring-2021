{
 "cells": [
  {
   "cell_type": "code",
   "execution_count": 1,
   "id": "weighted-macintosh",
   "metadata": {},
   "outputs": [],
   "source": [
    "#Unknown: Decompose the solution into a Fourier Series and determine the number of harmonics \n",
    "\n",
    "#data: p = 12, rug kutta then FT then calculate the data "
   ]
  },
  {
   "cell_type": "code",
   "execution_count": 9,
   "id": "figured-unemployment",
   "metadata": {},
   "outputs": [
    {
     "data": {
      "image/png": "[encoded data removed]",
      "text/plain": [
       "<Figure size 432x288 with 1 Axes>"
      ]
     },
     "metadata": {
      "needs_background": "light"
     },
     "output_type": "display_data"
    },
    {
     "data": {
      "image/png": "[encoded data removed]",
      "text/plain": [
       "<Figure size 432x288 with 1 Axes>"
      ]
     },
     "metadata": {
      "needs_background": "light"
     },
     "output_type": "display_data"
    },
    {
     "data": {
      "image/png": "[encoded data removed]",
      "text/plain": [
       "<Figure size 432x288 with 1 Axes>"
      ]
     },
     "metadata": {
      "needs_background": "light"
     },
     "output_type": "display_data"
    }
   ],
   "source": [
    "from numpy import *\n",
    "import matplotlib.pyplot as plt\n",
    "import cmath  \n",
    "import numpy as np\n",
    "\n",
    "\n",
    "a = 0.\n",
    "b = 7\n",
    "n = 50                    \n",
    "twopi  = 2.*pi;       \n",
    "sq2pi = 1./sqrt(twopi);        \n",
    "step = 2.*pi/n\n",
    "\n",
    "ydumb = np.zeros((2), float);    y = np.zeros((2), float)\n",
    "fReturn = np.zeros((2), float);  k1 = np.zeros((2), float)\n",
    "k2 = np.zeros((2), float);       k3 = np.zeros((2), float) \n",
    "k4 = np.zeros((2), float)\n",
    "y[0] = 0.;   y[1] = -1.\n",
    "t = a;       h = (b-a)/n\n",
    "xp=np.array([0.0])\n",
    "yp=np.array([y[0]])\n",
    "\n",
    "dftz  = zeros( n, complex )                  # Complex elements\n",
    "nplot = zeros( n, float )   \n",
    "fplot = zeros( n, float ) \n",
    "inv_ft  = zeros( n, complex )                  # Complex elements\n",
    "inv_n = zeros( n, float )   \n",
    "inv_f = zeros( n, float ) \n",
    "\n",
    "\n",
    "def f( t, y):                # Force function \n",
    "    fReturn[0] = y[1]                                          \n",
    "    fReturn[1] = -0.01*y[0]**11      \n",
    "    return fReturn\n",
    "\n",
    "def rk4(t,h,n):                 \n",
    "    k1 = [0]*(n)\n",
    "    k2 = [0]*(n)\n",
    "    k3 = [0]*(n)\n",
    "    k4 = [0]*(n)\n",
    "    fR = [0]*(n)\n",
    "    ydumb = [0]*(n)\n",
    "    fR = f(t, y)                                            # Returns RHS's  \n",
    "    for i in range(0, n):\n",
    "        k1[i] = h*fR[i]                             \n",
    "    for i in range(0, n):\n",
    "        ydumb[i] = y[i] + k1[i]/2. \n",
    "    k2 = h*f(t+h/2., ydumb) \n",
    "    for i in range(0, n):\n",
    "        ydumb[i] = y[i] + k2[i]/2. \n",
    "    k3 = h*f(t+h/2., ydumb)\n",
    "    for i in range(0, n):\n",
    "        ydumb[i] = y[i] + k3[i] \n",
    "    k4 = h*f(t+h, ydumb) \n",
    "    for i in range(0, 2):\n",
    "        y[i] = y[i] + (k1[i] + 2.*(k2[i] + k3[i]) + k4[i])/6.\n",
    "    return y    \n",
    "\n",
    "def F(dftz):                                              # DFT\n",
    "    for ii in range(0, n):              \n",
    "        zsum = complex(0.0, 0.0)                \n",
    "        for jj in range(0, n):                              \n",
    "            zexpo = complex(0, twopi*jj*ii/n)           # Complex exponent\n",
    "            zsum += yp[jj]*exp(-zexpo)           \n",
    "        dftz[ii] = zsum * sq2pi      \n",
    "        nplot[ii] = ii/n/step\n",
    "        fplot[ii] = dftz[ii].imag*dftz[ii].imag+dftz[ii].real*dftz[ii].real\n",
    "\n",
    "def inv_F(inv_ft):\n",
    "    for ii in range(0,n):\n",
    "        zsum = complex(0.0, 0.0)                \n",
    "        for jj in range(0, n):                              \n",
    "            zexpo = complex(0, twopi*jj*ii/n)           # Complex exponent\n",
    "            zsum += dftz[jj]*exp(zexpo)    \n",
    "        inv_ft[ii] = zsum*sq2pi\n",
    "        inv_n[ii] = ii/n/step\n",
    "        inv_f[ii] = inv_ft[ii].imag*inv_ft[ii].imag+inv_ft[ii].real*inv_ft[ii].real\n",
    "        \n",
    "\n",
    "while (t < b):         # solving rk4                                      # Time loop\n",
    "    if ((t + h) > b):\n",
    "        h = b - t                                           # Last step\n",
    "    y = rk4(t,h,2)\n",
    "    t = t + h\n",
    "    xp=np.append(xp, t)\n",
    "    yp=np.append(yp,y[0])\n",
    "     \n",
    "# taking the fourier transform\n",
    "F(dftz)\n",
    "# taking the inverse fourier transform\n",
    "inv_F(inv_ft)\n",
    "\n",
    "plt.plot(xp,yp)\n",
    "plt.xlabel(\"t\")\n",
    "plt.title(\"signal\")\n",
    "plt.xlim([a,b])\n",
    "plt.show()\n",
    "plt.scatter(nplot,fplot)\n",
    "plt.xlabel(r\"$\\omega$\")\n",
    "plt.title(\"fourier transform\")\n",
    "plt.xlim([0.,3.])\n",
    "plt.show()\n",
    "plt.scatter(inv_n,inv_f)\n",
    "plt.xlabel(\"t\")\n",
    "plt.title(\"inverse fourier transform\")\n",
    "plt.xlim([a,b])\n",
    "plt.show()"
   ]
  },
  {
   "cell_type": "code",
   "execution_count": null,
   "id": "rotary-conservation",
   "metadata": {},
   "outputs": [],
   "source": []
  }
 ],
 "metadata": {
  "kernelspec": {
   "display_name": "Python 3",
   "language": "python",
   "name": "python3"
  },
  "language_info": {
   "codemirror_mode": {
    "name": "ipython",
    "version": 3
   },
   "file_extension": ".py",
   "mimetype": "text/x-python",
   "name": "python",
   "nbconvert_exporter": "python",
   "pygments_lexer": "ipython3",
   "version": "3.7.6"
  }
 },
 "nbformat": 4,
 "nbformat_minor": 5
}
